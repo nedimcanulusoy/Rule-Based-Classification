{
 "cells": [
  {
   "cell_type": "code",
   "execution_count": 1,
   "metadata": {
    "collapsed": true,
    "pycharm": {
     "name": "#%%\n"
    }
   },
   "outputs": [],
   "source": [
    "#Potential Customer Yield Calculation by Rule Based Classification"
   ]
  },
  {
   "cell_type": "code",
   "execution_count": null,
   "outputs": [],
   "source": [
    "#Problem\n",
    "\"\"\"A game company wants to create level-based new customer definitions (personas) by using some features of\n",
    "its customers, and to create segments according to these new customer definitions and to estimate how much\n",
    "the company can earn on average from new customers based on these segments.\"\"\"\n",
    "\n",
    "\"\"\"For example: The company wants to determine how much a 25-year-old male user from Turkey, who is an IOS user, can earn on average to the company.\"\"\""
   ],
   "metadata": {
    "collapsed": false,
    "pycharm": {
     "name": "#%%\n",
     "is_executing": true
    }
   }
  },
  {
   "cell_type": "code",
   "execution_count": null,
   "outputs": [],
   "source": [
    "#Dataset\n",
    "\"\"\"\n",
    "Persona.csv data set contains the prices of the products sold by an international game company and some demographic\n",
    "information of the users who buy these products. The data set consists of records created in each sales transaction.\n",
    "This means that the table is not singularized. In other words, a user with certain demographic characteristics may\n",
    "have made more than one purchase.\n",
    "\n",
    "Price: Customer's Spending Amount\n",
    "Source: Customer's Device\n",
    "Sex: Customer's Gender\n",
    "Country: Customer's Country\n",
    "Age: Customer's Age\n",
    "\"\"\""
   ],
   "metadata": {
    "collapsed": false,
    "pycharm": {
     "name": "#%%\n",
     "is_executing": true
    }
   }
  },
  {
   "cell_type": "code",
   "execution_count": 4,
   "outputs": [],
   "source": [
    "import pandas as pd\n",
    "import matplotlib.pyplot as plt\n",
    "import seaborn as sns"
   ],
   "metadata": {
    "collapsed": false,
    "pycharm": {
     "name": "#%%\n"
    }
   }
  },
  {
   "cell_type": "code",
   "execution_count": 5,
   "outputs": [],
   "source": [
    "df = pd.read_csv(\"persona.csv\", encoding='utf-8')"
   ],
   "metadata": {
    "collapsed": false,
    "pycharm": {
     "name": "#%%\n"
    }
   }
  },
  {
   "cell_type": "code",
   "execution_count": 6,
   "outputs": [
    {
     "name": "stdout",
     "output_type": "stream",
     "text": [
      "--------- HEAD ---------\n",
      "   PRICE   SOURCE   SEX COUNTRY  AGE\n",
      "0     39  android  male     bra   17\n",
      "1     39  android  male     bra   17\n",
      "2     49  android  male     bra   17\n",
      "3     29  android  male     tur   17\n",
      "4     49  android  male     tur   17\n",
      "5     29  android  male     bra   17\n",
      "6     19  android  male     bra   17\n",
      "7     59  android  male     bra   17\n",
      "8     49  android  male     bra   17\n",
      "9     19  android  male     bra   17\n",
      "--------- SHAPE ---------\n",
      "(5000, 5)\n",
      "--------- COLUMNS ---------\n",
      "Index(['PRICE', 'SOURCE', 'SEX', 'COUNTRY', 'AGE'], dtype='object')\n",
      "--------- DESRIBE ---------\n",
      "        count     mean        std   min   25%   50%   75%   max\n",
      "PRICE  5000.0  34.1320  12.464897   9.0  29.0  39.0  39.0  59.0\n",
      "AGE    5000.0  23.5814   8.995908  15.0  17.0  21.0  27.0  66.0\n",
      "--------- INFO ---------\n",
      "<class 'pandas.core.frame.DataFrame'>\n",
      "Int64Index: 5000 entries, 0 to 4999\n",
      "Data columns (total 5 columns):\n",
      " #   Column   Non-Null Count  Dtype \n",
      "---  ------   --------------  ----- \n",
      " 0   PRICE    5000 non-null   int64 \n",
      " 1   SOURCE   5000 non-null   object\n",
      " 2   SEX      5000 non-null   object\n",
      " 3   COUNTRY  5000 non-null   object\n",
      " 4   AGE      5000 non-null   int64 \n",
      "dtypes: int64(2), object(3)\n",
      "memory usage: 234.4+ KB\n",
      "None\n",
      "--------- ANY NULL VALUES ---------\n",
      "False\n",
      "--------- SUM OF NULL VALUES ---------\n",
      "PRICE      0\n",
      "SOURCE     0\n",
      "SEX        0\n",
      "COUNTRY    0\n",
      "AGE        0\n",
      "dtype: int64\n"
     ]
    }
   ],
   "source": [
    "def quick_info(dataframe):\n",
    "    print(\"--------- HEAD ---------\")\n",
    "    print(dataframe.head(10))\n",
    "    print(\"--------- SHAPE ---------\")\n",
    "    print(dataframe.shape)\n",
    "    print(\"--------- COLUMNS ---------\")\n",
    "    print(dataframe.columns)\n",
    "    print(\"--------- DESRIBE ---------\")\n",
    "    print(dataframe.describe().T)\n",
    "    print(\"--------- INFO ---------\")\n",
    "    print(dataframe.info())\n",
    "    print(\"--------- ANY NULL VALUES ---------\")\n",
    "    print(dataframe.isnull().values.any())\n",
    "    print(\"--------- SUM OF NULL VALUES ---------\")\n",
    "    print(dataframe.isnull().sum())\n",
    "\n",
    "quick_info(df)"
   ],
   "metadata": {
    "collapsed": false,
    "pycharm": {
     "name": "#%%\n"
    }
   }
  },
  {
   "cell_type": "code",
   "execution_count": 6,
   "outputs": [
    {
     "name": "stdout",
     "output_type": "stream",
     "text": [
      "Observations: 5000\n",
      " Variables: 5\n",
      " cat_cols: 3\n",
      " num_cols: 2\n",
      " cat_but_car: 0\n",
      " num_but_cat: 0\n"
     ]
    }
   ],
   "source": [
    "def dataframe_summary(dataframe, cat_threshold = 5, card_threshold=15):\n",
    "    #Categorical Variables\n",
    "    cat_cols = [col for col in dataframe.columns if str(dataframe[col].dtypes) in [\"object\"]] #['SOURCE', 'SEX', 'COUNTRY']\n",
    "    num_but_cat = [col for col in dataframe.columns if dataframe[col].nunique() < cat_threshold and dataframe[col].dtypes in [\"int\"]] #['PRICE']\n",
    "    cat_but_car = [col for col in dataframe.columns if dataframe[col].nunique() > card_threshold and str(dataframe[col].dtypes) in [\"object\"]] #[]\n",
    "    cat_cols = cat_cols + num_but_cat #['SOURCE', 'SEX', 'COUNTRY', 'PRICE']\n",
    "    cat_cols = [col for col in cat_cols if col not in cat_but_car] #['SOURCE', 'SEX', 'COUNTRY', 'PRICE']\n",
    "\n",
    "    #Numerical Variables\n",
    "    num_cols = [col for col in dataframe.columns if dataframe[col].dtypes in ['int']] #['PRICE', 'AGE']\n",
    "    num_cols = [col for col in num_cols if col not in cat_cols] #['AGE']\n",
    "\n",
    "    print(f\"Observations: {dataframe.shape[0]}\\n\",\n",
    "          f\"Variables: {dataframe.shape[1]}\\n\",\n",
    "          f'cat_cols: {len(cat_cols)}\\n',\n",
    "          f'num_cols: {len(num_cols)}\\n',\n",
    "          f'cat_but_car: {len(cat_but_car)}\\n',\n",
    "          f'num_but_cat: {len(num_but_cat)}')\n",
    "\n",
    "    return cat_cols, num_cols\n",
    "\n",
    "cat_cols, num_cols = dataframe_summary(dataframe=df)"
   ],
   "metadata": {
    "collapsed": false,
    "pycharm": {
     "name": "#%%\n"
    }
   }
  },
  {
   "cell_type": "code",
   "execution_count": 8,
   "outputs": [],
   "source": [
    "#Defined to get summary of categorical variables\n",
    "def cat_summary(dataframe, col_name, plot=False):\n",
    "    print(pd.DataFrame({col_name: dataframe[col_name].value_counts(), \"Ratio\":100 * dataframe[col_name].value_counts() / len(dataframe)}))\n",
    "\n",
    "    if plot:\n",
    "        sns.countplot(x=dataframe[col_name], data=dataframe)\n",
    "        plt.grid()\n",
    "        plt.show()\n",
    "\n",
    "#Defined to get summary of numerical variables\n",
    "def num_summary(dataframe, numerical_col, plot=False):\n",
    "    quantiles = [0, .25, .50, .75 ,1.]\n",
    "    print(dataframe[numerical_col].describe(quantiles).T)\n",
    "\n",
    "    if plot:\n",
    "        dataframe[numerical_col].hist()\n",
    "        plt.xlabel(numerical_col)\n",
    "        plt.title(numerical_col)\n",
    "        plt.show()"
   ],
   "metadata": {
    "collapsed": false,
    "pycharm": {
     "name": "#%%\n"
    }
   }
  },
  {
   "cell_type": "code",
   "execution_count": 9,
   "outputs": [
    {
     "name": "stdout",
     "output_type": "stream",
     "text": [
      "         SOURCE  Ratio\n",
      "android    2974  59.48\n",
      "ios        2026  40.52\n"
     ]
    },
    {
     "data": {
      "text/plain": "<Figure size 640x480 with 1 Axes>",
      "image/png": "[encoded data removed]"
     },
     "metadata": {},
     "output_type": "display_data"
    },
    {
     "name": "stdout",
     "output_type": "stream",
     "text": [
      "         SEX  Ratio\n",
      "female  2621  52.42\n",
      "male    2379  47.58\n"
     ]
    },
    {
     "data": {
      "text/plain": "<Figure size 640x480 with 1 Axes>",
      "image/png": "[encoded data removed]"
     },
     "metadata": {},
     "output_type": "display_data"
    },
    {
     "name": "stdout",
     "output_type": "stream",
     "text": [
      "     COUNTRY  Ratio\n",
      "usa     2065  41.30\n",
      "bra     1496  29.92\n",
      "deu      455   9.10\n",
      "tur      451   9.02\n",
      "fra      303   6.06\n",
      "can      230   4.60\n"
     ]
    },
    {
     "data": {
      "text/plain": "<Figure size 640x480 with 1 Axes>",
      "image/png": "[encoded data removed]"
     },
     "metadata": {},
     "output_type": "display_data"
    }
   ],
   "source": [
    "for col in cat_cols:\n",
    "    cat_summary(df, col, plot=True)"
   ],
   "metadata": {
    "collapsed": false,
    "pycharm": {
     "name": "#%%\n"
    }
   }
  },
  {
   "cell_type": "code",
   "execution_count": 10,
   "outputs": [
    {
     "name": "stdout",
     "output_type": "stream",
     "text": [
      "count    5000.000000\n",
      "mean       34.132000\n",
      "std        12.464897\n",
      "min         9.000000\n",
      "0%          9.000000\n",
      "25%        29.000000\n",
      "50%        39.000000\n",
      "75%        39.000000\n",
      "100%       59.000000\n",
      "max        59.000000\n",
      "Name: PRICE, dtype: float64\n"
     ]
    },
    {
     "data": {
      "text/plain": "<Figure size 640x480 with 1 Axes>",
      "image/png": "[encoded data removed]"
     },
     "metadata": {},
     "output_type": "display_data"
    },
    {
     "name": "stdout",
     "output_type": "stream",
     "text": [
      "count    5000.000000\n",
      "mean       23.581400\n",
      "std         8.995908\n",
      "min        15.000000\n",
      "0%         15.000000\n",
      "25%        17.000000\n",
      "50%        21.000000\n",
      "75%        27.000000\n",
      "100%       66.000000\n",
      "max        66.000000\n",
      "Name: AGE, dtype: float64\n"
     ]
    },
    {
     "data": {
      "text/plain": "<Figure size 640x480 with 1 Axes>",
      "image/png": "[encoded data removed]"
     },
     "metadata": {},
     "output_type": "display_data"
    }
   ],
   "source": [
    "for col in num_cols:\n",
    "    num_summary(df, col, plot=True)"
   ],
   "metadata": {
    "collapsed": false,
    "pycharm": {
     "name": "#%%\n"
    }
   }
  },
  {
   "cell_type": "code",
   "execution_count": 11,
   "outputs": [],
   "source": [
    "#Return average earnings in terms of break down of COUNTRY, SOURCE, SEX, AGE in descending order\n",
    "agg_df = df.groupby([\"COUNTRY\",\"SOURCE\",\"SEX\",\"AGE\"]).agg({\"PRICE\":'mean'}).sort_values('PRICE',ascending=False)"
   ],
   "metadata": {
    "collapsed": false,
    "pycharm": {
     "name": "#%%\n"
    }
   }
  },
  {
   "cell_type": "code",
   "execution_count": 12,
   "outputs": [],
   "source": [
    "#Convert index names to variable names by resetting index\n",
    "agg_df.reset_index(inplace=True)"
   ],
   "metadata": {
    "collapsed": false,
    "pycharm": {
     "name": "#%%\n"
    }
   }
  },
  {
   "cell_type": "code",
   "execution_count": 13,
   "outputs": [
    {
     "data": {
      "text/plain": "    COUNTRY   SOURCE     SEX  AGE  PRICE\n0       bra  android    male   46   59.0\n1       usa  android    male   36   59.0\n2       fra  android  female   24   59.0\n3       usa      ios    male   32   54.0\n4       deu  android  female   36   49.0\n..      ...      ...     ...  ...    ...\n343     usa      ios  female   38   19.0\n344     usa      ios  female   30   19.0\n345     can  android  female   27   19.0\n346     fra  android    male   18   19.0\n347     deu  android    male   26    9.0\n\n[348 rows x 5 columns]",
      "text/html": "<div>\n<style scoped>\n    .dataframe tbody tr th:only-of-type {\n        vertical-align: middle;\n    }\n\n    .dataframe tbody tr th {\n        vertical-align: top;\n    }\n\n    .dataframe thead th {\n        text-align: right;\n    }\n</style>\n<table border=\"1\" class=\"dataframe\">\n  <thead>\n    <tr style=\"text-align: right;\">\n      <th></th>\n      <th>COUNTRY</th>\n      <th>SOURCE</th>\n      <th>SEX</th>\n      <th>AGE</th>\n      <th>PRICE</th>\n    </tr>\n  </thead>\n  <tbody>\n    <tr>\n      <th>0</th>\n      <td>bra</td>\n      <td>android</td>\n      <td>male</td>\n      <td>46</td>\n      <td>59.0</td>\n    </tr>\n    <tr>\n      <th>1</th>\n      <td>usa</td>\n      <td>android</td>\n      <td>male</td>\n      <td>36</td>\n      <td>59.0</td>\n    </tr>\n    <tr>\n      <th>2</th>\n      <td>fra</td>\n      <td>android</td>\n      <td>female</td>\n      <td>24</td>\n      <td>59.0</td>\n    </tr>\n    <tr>\n      <th>3</th>\n      <td>usa</td>\n      <td>ios</td>\n      <td>male</td>\n      <td>32</td>\n      <td>54.0</td>\n    </tr>\n    <tr>\n      <th>4</th>\n      <td>deu</td>\n      <td>android</td>\n      <td>female</td>\n      <td>36</td>\n      <td>49.0</td>\n    </tr>\n    <tr>\n      <th>...</th>\n      <td>...</td>\n      <td>...</td>\n      <td>...</td>\n      <td>...</td>\n      <td>...</td>\n    </tr>\n    <tr>\n      <th>343</th>\n      <td>usa</td>\n      <td>ios</td>\n      <td>female</td>\n      <td>38</td>\n      <td>19.0</td>\n    </tr>\n    <tr>\n      <th>344</th>\n      <td>usa</td>\n      <td>ios</td>\n      <td>female</td>\n      <td>30</td>\n      <td>19.0</td>\n    </tr>\n    <tr>\n      <th>345</th>\n      <td>can</td>\n      <td>android</td>\n      <td>female</td>\n      <td>27</td>\n      <td>19.0</td>\n    </tr>\n    <tr>\n      <th>346</th>\n      <td>fra</td>\n      <td>android</td>\n      <td>male</td>\n      <td>18</td>\n      <td>19.0</td>\n    </tr>\n    <tr>\n      <th>347</th>\n      <td>deu</td>\n      <td>android</td>\n      <td>male</td>\n      <td>26</td>\n      <td>9.0</td>\n    </tr>\n  </tbody>\n</table>\n<p>348 rows × 5 columns</p>\n</div>"
     },
     "execution_count": 13,
     "metadata": {},
     "output_type": "execute_result"
    }
   ],
   "source": [
    "agg_df"
   ],
   "metadata": {
    "collapsed": false,
    "pycharm": {
     "name": "#%%\n"
    }
   }
  },
  {
   "cell_type": "code",
   "execution_count": 14,
   "outputs": [],
   "source": [
    "#Set intervals of AGE variable to be splitted\n",
    "bins = [agg_df[\"AGE\"].min(), 18, 23, 30, 40, agg_df[\"AGE\"].max()]\n",
    "\n",
    "#Set labels to correspond to splitted parts\n",
    "labels = [str(agg_df[\"AGE\"].min()) + '_18', '19_23', '24_30', '31_40', '41_' + str(agg_df[\"AGE\"].max())]\n",
    "\n",
    "#Split AGE variable according to bins & Assign it to a new column in agg_df named \"AGE_CAT\"\n",
    "#inclue_lowest made the first interval be left inclusive which allowed us to get the minimum value (which is 15)\n",
    "agg_df[\"AGE_CAT\"] = pd.cut(agg_df[\"AGE\"], bins=bins, labels=labels, include_lowest=True)"
   ],
   "metadata": {
    "collapsed": false,
    "pycharm": {
     "name": "#%%\n"
    }
   }
  },
  {
   "cell_type": "code",
   "execution_count": 15,
   "outputs": [
    {
     "data": {
      "text/plain": "        AGE    \n        min max\nAGE_CAT        \n15_18    15  18\n19_23    19  23\n24_30    24  30\n31_40    31  40\n41_66    41  66",
      "text/html": "<div>\n<style scoped>\n    .dataframe tbody tr th:only-of-type {\n        vertical-align: middle;\n    }\n\n    .dataframe tbody tr th {\n        vertical-align: top;\n    }\n\n    .dataframe thead tr th {\n        text-align: left;\n    }\n\n    .dataframe thead tr:last-of-type th {\n        text-align: right;\n    }\n</style>\n<table border=\"1\" class=\"dataframe\">\n  <thead>\n    <tr>\n      <th></th>\n      <th colspan=\"2\" halign=\"left\">AGE</th>\n    </tr>\n    <tr>\n      <th></th>\n      <th>min</th>\n      <th>max</th>\n    </tr>\n    <tr>\n      <th>AGE_CAT</th>\n      <th></th>\n      <th></th>\n    </tr>\n  </thead>\n  <tbody>\n    <tr>\n      <th>15_18</th>\n      <td>15</td>\n      <td>18</td>\n    </tr>\n    <tr>\n      <th>19_23</th>\n      <td>19</td>\n      <td>23</td>\n    </tr>\n    <tr>\n      <th>24_30</th>\n      <td>24</td>\n      <td>30</td>\n    </tr>\n    <tr>\n      <th>31_40</th>\n      <td>31</td>\n      <td>40</td>\n    </tr>\n    <tr>\n      <th>41_66</th>\n      <td>41</td>\n      <td>66</td>\n    </tr>\n  </tbody>\n</table>\n</div>"
     },
     "execution_count": 15,
     "metadata": {},
     "output_type": "execute_result"
    }
   ],
   "source": [
    "\"\"\"\n",
    "NOTE: This code snippet returns min, max values according to grouped 'AGE_CAT' and useful\n",
    "for giving consistent intervals on both cut & qcut. (in terms of labelling)\n",
    "\"\"\"\n",
    "agg_df.groupby(\"AGE_CAT\").agg({\"AGE\":['min','max']})"
   ],
   "metadata": {
    "collapsed": false,
    "pycharm": {
     "name": "#%%\n"
    }
   }
  },
  {
   "cell_type": "code",
   "execution_count": 16,
   "outputs": [
    {
     "data": {
      "text/plain": "    COUNTRY   SOURCE     SEX  AGE  PRICE AGE_CAT\n0       bra  android    male   46   59.0   41_66\n1       usa  android    male   36   59.0   31_40\n2       fra  android  female   24   59.0   24_30\n3       usa      ios    male   32   54.0   31_40\n4       deu  android  female   36   49.0   31_40\n..      ...      ...     ...  ...    ...     ...\n343     usa      ios  female   38   19.0   31_40\n344     usa      ios  female   30   19.0   24_30\n345     can  android  female   27   19.0   24_30\n346     fra  android    male   18   19.0   15_18\n347     deu  android    male   26    9.0   24_30\n\n[348 rows x 6 columns]",
      "text/html": "<div>\n<style scoped>\n    .dataframe tbody tr th:only-of-type {\n        vertical-align: middle;\n    }\n\n    .dataframe tbody tr th {\n        vertical-align: top;\n    }\n\n    .dataframe thead th {\n        text-align: right;\n    }\n</style>\n<table border=\"1\" class=\"dataframe\">\n  <thead>\n    <tr style=\"text-align: right;\">\n      <th></th>\n      <th>COUNTRY</th>\n      <th>SOURCE</th>\n      <th>SEX</th>\n      <th>AGE</th>\n      <th>PRICE</th>\n      <th>AGE_CAT</th>\n    </tr>\n  </thead>\n  <tbody>\n    <tr>\n      <th>0</th>\n      <td>bra</td>\n      <td>android</td>\n      <td>male</td>\n      <td>46</td>\n      <td>59.0</td>\n      <td>41_66</td>\n    </tr>\n    <tr>\n      <th>1</th>\n      <td>usa</td>\n      <td>android</td>\n      <td>male</td>\n      <td>36</td>\n      <td>59.0</td>\n      <td>31_40</td>\n    </tr>\n    <tr>\n      <th>2</th>\n      <td>fra</td>\n      <td>android</td>\n      <td>female</td>\n      <td>24</td>\n      <td>59.0</td>\n      <td>24_30</td>\n    </tr>\n    <tr>\n      <th>3</th>\n      <td>usa</td>\n      <td>ios</td>\n      <td>male</td>\n      <td>32</td>\n      <td>54.0</td>\n      <td>31_40</td>\n    </tr>\n    <tr>\n      <th>4</th>\n      <td>deu</td>\n      <td>android</td>\n      <td>female</td>\n      <td>36</td>\n      <td>49.0</td>\n      <td>31_40</td>\n    </tr>\n    <tr>\n      <th>...</th>\n      <td>...</td>\n      <td>...</td>\n      <td>...</td>\n      <td>...</td>\n      <td>...</td>\n      <td>...</td>\n    </tr>\n    <tr>\n      <th>343</th>\n      <td>usa</td>\n      <td>ios</td>\n      <td>female</td>\n      <td>38</td>\n      <td>19.0</td>\n      <td>31_40</td>\n    </tr>\n    <tr>\n      <th>344</th>\n      <td>usa</td>\n      <td>ios</td>\n      <td>female</td>\n      <td>30</td>\n      <td>19.0</td>\n      <td>24_30</td>\n    </tr>\n    <tr>\n      <th>345</th>\n      <td>can</td>\n      <td>android</td>\n      <td>female</td>\n      <td>27</td>\n      <td>19.0</td>\n      <td>24_30</td>\n    </tr>\n    <tr>\n      <th>346</th>\n      <td>fra</td>\n      <td>android</td>\n      <td>male</td>\n      <td>18</td>\n      <td>19.0</td>\n      <td>15_18</td>\n    </tr>\n    <tr>\n      <th>347</th>\n      <td>deu</td>\n      <td>android</td>\n      <td>male</td>\n      <td>26</td>\n      <td>9.0</td>\n      <td>24_30</td>\n    </tr>\n  </tbody>\n</table>\n<p>348 rows × 6 columns</p>\n</div>"
     },
     "execution_count": 16,
     "metadata": {},
     "output_type": "execute_result"
    }
   ],
   "source": [
    "agg_df"
   ],
   "metadata": {
    "collapsed": false,
    "pycharm": {
     "name": "#%%\n"
    }
   }
  },
  {
   "cell_type": "code",
   "execution_count": 17,
   "outputs": [],
   "source": [
    "#Requested to define new level based customers and add them as variables to the dataset.\n",
    "\n",
    "#Defined a new variable called 'CUSTOMER_LEVEL_BASED' & Assigned as a variable to the dataset (agg_df) under the name \"CUSTOMER_LEVEL_BASED\"\n",
    "#[\"COUNTRY\",\"SOURCE\",\"SEX\",\"AGE_CAT\"] columns are combined with \"_\" by column axis by lambda function\n",
    "agg_df['CUSTOMER_LEVEL_BASED'] = agg_df[[\"COUNTRY\",\"SOURCE\",\"SEX\",\"AGE_CAT\"]].apply(lambda x: \"_\".join(x.astype(str)), axis=1)\n",
    "\n",
    "#Since it has been said before that this dataset is not singularized, we need to singularize it.\n",
    "agg_df = agg_df.groupby(\"CUSTOMER_LEVEL_BASED\").agg({\"PRICE\":'mean'})\n",
    "\n",
    "agg_df.reset_index(inplace=True) #We had to reset index since we merged different columns into one (i.e. 'Singularization process')"
   ],
   "metadata": {
    "collapsed": false,
    "pycharm": {
     "name": "#%%\n"
    }
   }
  },
  {
   "cell_type": "code",
   "execution_count": 18,
   "outputs": [
    {
     "data": {
      "text/plain": "bra_android_female_15_18    1\ntur_android_female_15_18    1\ntur_ios_female_19_23        1\ntur_ios_female_15_18        1\ntur_android_male_41_66      1\n                           ..\ncan_ios_male_41_66          1\ncan_ios_male_31_40          1\ncan_ios_male_24_30          1\ncan_ios_male_15_18          1\nusa_ios_male_41_66          1\nName: CUSTOMER_LEVEL_BASED, Length: 109, dtype: int64"
     },
     "execution_count": 18,
     "metadata": {},
     "output_type": "execute_result"
    }
   ],
   "source": [
    "agg_df[\"CUSTOMER_LEVEL_BASED\"].value_counts() #Proves that singularization process was successful"
   ],
   "metadata": {
    "collapsed": false,
    "pycharm": {
     "name": "#%%\n"
    }
   }
  },
  {
   "cell_type": "code",
   "execution_count": 19,
   "outputs": [
    {
     "data": {
      "text/plain": "         CUSTOMER_LEVEL_BASED      PRICE\n0    bra_android_female_15_18  35.645303\n1    bra_android_female_19_23  34.077340\n2    bra_android_female_24_30  33.863946\n3    bra_android_female_31_40  34.898326\n4    bra_android_female_41_66  36.737179\n..                        ...        ...\n104        usa_ios_male_15_18  33.983495\n105        usa_ios_male_19_23  34.901872\n106        usa_ios_male_24_30  34.838143\n107        usa_ios_male_31_40  36.206324\n108        usa_ios_male_41_66  35.750000\n\n[109 rows x 2 columns]",
      "text/html": "<div>\n<style scoped>\n    .dataframe tbody tr th:only-of-type {\n        vertical-align: middle;\n    }\n\n    .dataframe tbody tr th {\n        vertical-align: top;\n    }\n\n    .dataframe thead th {\n        text-align: right;\n    }\n</style>\n<table border=\"1\" class=\"dataframe\">\n  <thead>\n    <tr style=\"text-align: right;\">\n      <th></th>\n      <th>CUSTOMER_LEVEL_BASED</th>\n      <th>PRICE</th>\n    </tr>\n  </thead>\n  <tbody>\n    <tr>\n      <th>0</th>\n      <td>bra_android_female_15_18</td>\n      <td>35.645303</td>\n    </tr>\n    <tr>\n      <th>1</th>\n      <td>bra_android_female_19_23</td>\n      <td>34.077340</td>\n    </tr>\n    <tr>\n      <th>2</th>\n      <td>bra_android_female_24_30</td>\n      <td>33.863946</td>\n    </tr>\n    <tr>\n      <th>3</th>\n      <td>bra_android_female_31_40</td>\n      <td>34.898326</td>\n    </tr>\n    <tr>\n      <th>4</th>\n      <td>bra_android_female_41_66</td>\n      <td>36.737179</td>\n    </tr>\n    <tr>\n      <th>...</th>\n      <td>...</td>\n      <td>...</td>\n    </tr>\n    <tr>\n      <th>104</th>\n      <td>usa_ios_male_15_18</td>\n      <td>33.983495</td>\n    </tr>\n    <tr>\n      <th>105</th>\n      <td>usa_ios_male_19_23</td>\n      <td>34.901872</td>\n    </tr>\n    <tr>\n      <th>106</th>\n      <td>usa_ios_male_24_30</td>\n      <td>34.838143</td>\n    </tr>\n    <tr>\n      <th>107</th>\n      <td>usa_ios_male_31_40</td>\n      <td>36.206324</td>\n    </tr>\n    <tr>\n      <th>108</th>\n      <td>usa_ios_male_41_66</td>\n      <td>35.750000</td>\n    </tr>\n  </tbody>\n</table>\n<p>109 rows × 2 columns</p>\n</div>"
     },
     "execution_count": 19,
     "metadata": {},
     "output_type": "execute_result"
    }
   ],
   "source": [
    "agg_df"
   ],
   "metadata": {
    "collapsed": false,
    "pycharm": {
     "name": "#%%\n"
    }
   }
  },
  {
   "cell_type": "code",
   "execution_count": 20,
   "outputs": [],
   "source": [
    "#Requested to split new customers into \"SEGMENTS\" according to \"PRICE\" & Assign to agg_df with a new column named \"SEGMENTS\"\n",
    "\n",
    "labels = ['A', \"B\", 'C', \"D\", 'E']\n",
    "\n",
    "#NOTE: qcut creates unequal size bins but frequency of samples is equal in each bin\n",
    "agg_df[\"SEGMENT\"] = pd.qcut(agg_df['PRICE'], 5, labels=labels[::-1])"
   ],
   "metadata": {
    "collapsed": false,
    "pycharm": {
     "name": "#%%\n"
    }
   }
  },
  {
   "cell_type": "code",
   "execution_count": 21,
   "outputs": [
    {
     "data": {
      "text/plain": "        CUSTOMER_LEVEL_BASED      PRICE SEGMENT\n54  fra_android_female_24_30  45.428571       A\n86        tur_ios_male_24_30  45.000000       A\n87        tur_ios_male_31_40  42.333333       A\n72  tur_android_female_31_40  41.833333       A\n25    can_android_male_19_23  40.111111       A\n..                       ...        ...     ...\n88        tur_ios_male_41_66  25.052632       E\n85        tur_ios_male_19_23  24.833333       E\n56    fra_android_male_15_18  24.625000       E\n22  can_android_female_24_30  19.000000       E\n41    deu_android_male_24_30  19.000000       E\n\n[109 rows x 3 columns]",
      "text/html": "<div>\n<style scoped>\n    .dataframe tbody tr th:only-of-type {\n        vertical-align: middle;\n    }\n\n    .dataframe tbody tr th {\n        vertical-align: top;\n    }\n\n    .dataframe thead th {\n        text-align: right;\n    }\n</style>\n<table border=\"1\" class=\"dataframe\">\n  <thead>\n    <tr style=\"text-align: right;\">\n      <th></th>\n      <th>CUSTOMER_LEVEL_BASED</th>\n      <th>PRICE</th>\n      <th>SEGMENT</th>\n    </tr>\n  </thead>\n  <tbody>\n    <tr>\n      <th>54</th>\n      <td>fra_android_female_24_30</td>\n      <td>45.428571</td>\n      <td>A</td>\n    </tr>\n    <tr>\n      <th>86</th>\n      <td>tur_ios_male_24_30</td>\n      <td>45.000000</td>\n      <td>A</td>\n    </tr>\n    <tr>\n      <th>87</th>\n      <td>tur_ios_male_31_40</td>\n      <td>42.333333</td>\n      <td>A</td>\n    </tr>\n    <tr>\n      <th>72</th>\n      <td>tur_android_female_31_40</td>\n      <td>41.833333</td>\n      <td>A</td>\n    </tr>\n    <tr>\n      <th>25</th>\n      <td>can_android_male_19_23</td>\n      <td>40.111111</td>\n      <td>A</td>\n    </tr>\n    <tr>\n      <th>...</th>\n      <td>...</td>\n      <td>...</td>\n      <td>...</td>\n    </tr>\n    <tr>\n      <th>88</th>\n      <td>tur_ios_male_41_66</td>\n      <td>25.052632</td>\n      <td>E</td>\n    </tr>\n    <tr>\n      <th>85</th>\n      <td>tur_ios_male_19_23</td>\n      <td>24.833333</td>\n      <td>E</td>\n    </tr>\n    <tr>\n      <th>56</th>\n      <td>fra_android_male_15_18</td>\n      <td>24.625000</td>\n      <td>E</td>\n    </tr>\n    <tr>\n      <th>22</th>\n      <td>can_android_female_24_30</td>\n      <td>19.000000</td>\n      <td>E</td>\n    </tr>\n    <tr>\n      <th>41</th>\n      <td>deu_android_male_24_30</td>\n      <td>19.000000</td>\n      <td>E</td>\n    </tr>\n  </tbody>\n</table>\n<p>109 rows × 3 columns</p>\n</div>"
     },
     "execution_count": 21,
     "metadata": {},
     "output_type": "execute_result"
    }
   ],
   "source": [
    "agg_df.sort_values(by=\"PRICE\", ascending=False) #Indicates that the 'SEGMENT' distribution is made according to the 'PRICE' distribution."
   ],
   "metadata": {
    "collapsed": false,
    "pycharm": {
     "name": "#%%\n"
    }
   }
  },
  {
   "cell_type": "code",
   "execution_count": 22,
   "outputs": [],
   "source": [
    "#Requested to classify the new customers and estimate how much income they can bring to the company\n",
    "\n",
    "def predict_income(country,device,sex,age):\n",
    "    \"\"\"\n",
    "    This function takes 4 parameters about the customer to be searched, respectively, country, device, gender and age.\n",
    "    Next, first of all iterates over \"CUSTOMER_LEVEL_BASED\" to unpack, and second of all iterates over it again to\n",
    "    access each element of the \"CUSTOMER_LEVEL_BASED\" column. Then, selects every row based on its index and splits\n",
    "    with underscore in the text. Since age intervals indices are known, they were called according to their indices and\n",
    "    assigned to min_age, max_age respectively.\n",
    "\n",
    "    After that, query control made with age parameters and if it is satisfied, combines each given element, performs requested\n",
    "    query and returns prediction of the given user.\n",
    "\n",
    "    Parameters\n",
    "    ----------\n",
    "    country: origin of the customer\n",
    "    device: customer's device\n",
    "    sex: customer's gender\n",
    "    age: customer's age\n",
    "\n",
    "    Returns\n",
    "    -------\n",
    "    new_customer: prediction of the given user\n",
    "\n",
    "    Note\n",
    "    ----\n",
    "    It is possible to do more checks before querying the input (For example, it could be extended by checking whether all entries given in the dataset are valid)\n",
    "    \"\"\"\n",
    "    for _ in agg_df[\"CUSTOMER_LEVEL_BASED\"]:\n",
    "        for ind, line in enumerate(agg_df[\"CUSTOMER_LEVEL_BASED\"]):\n",
    "            min_age = agg_df['CUSTOMER_LEVEL_BASED'][ind].split('_')[3]\n",
    "            max_age = agg_df['CUSTOMER_LEVEL_BASED'][ind].split('_')[4]\n",
    "\n",
    "            if min_age <= age <= max_age:\n",
    "                new_customer = '_'.join([country.lower(), device.lower(), sex.lower(), min_age, max_age])\n",
    "\n",
    "                return agg_df[agg_df['CUSTOMER_LEVEL_BASED'] == new_customer]"
   ],
   "metadata": {
    "collapsed": false,
    "pycharm": {
     "name": "#%%\n"
    }
   }
  },
  {
   "cell_type": "code",
   "execution_count": 23,
   "outputs": [
    {
     "data": {
      "text/plain": "    CUSTOMER_LEVEL_BASED      PRICE SEGMENT\n82  tur_ios_female_31_40  32.333333       D",
      "text/html": "<div>\n<style scoped>\n    .dataframe tbody tr th:only-of-type {\n        vertical-align: middle;\n    }\n\n    .dataframe tbody tr th {\n        vertical-align: top;\n    }\n\n    .dataframe thead th {\n        text-align: right;\n    }\n</style>\n<table border=\"1\" class=\"dataframe\">\n  <thead>\n    <tr style=\"text-align: right;\">\n      <th></th>\n      <th>CUSTOMER_LEVEL_BASED</th>\n      <th>PRICE</th>\n      <th>SEGMENT</th>\n    </tr>\n  </thead>\n  <tbody>\n    <tr>\n      <th>82</th>\n      <td>tur_ios_female_31_40</td>\n      <td>32.333333</td>\n      <td>D</td>\n    </tr>\n  </tbody>\n</table>\n</div>"
     },
     "execution_count": 23,
     "metadata": {},
     "output_type": "execute_result"
    }
   ],
   "source": [
    "#Which segment does a 33-year-old Turkish female using ANDROID belong to and how much income is expected to earn on average?\n",
    "predict_income(\"tur\",'ios','female', '33')"
   ],
   "metadata": {
    "collapsed": false,
    "pycharm": {
     "name": "#%%\n"
    }
   }
  },
  {
   "cell_type": "code",
   "execution_count": 24,
   "outputs": [
    {
     "data": {
      "text/plain": "    CUSTOMER_LEVEL_BASED      PRICE SEGMENT\n63  fra_ios_female_31_40  32.818182       D",
      "text/html": "<div>\n<style scoped>\n    .dataframe tbody tr th:only-of-type {\n        vertical-align: middle;\n    }\n\n    .dataframe tbody tr th {\n        vertical-align: top;\n    }\n\n    .dataframe thead th {\n        text-align: right;\n    }\n</style>\n<table border=\"1\" class=\"dataframe\">\n  <thead>\n    <tr style=\"text-align: right;\">\n      <th></th>\n      <th>CUSTOMER_LEVEL_BASED</th>\n      <th>PRICE</th>\n      <th>SEGMENT</th>\n    </tr>\n  </thead>\n  <tbody>\n    <tr>\n      <th>63</th>\n      <td>fra_ios_female_31_40</td>\n      <td>32.818182</td>\n      <td>D</td>\n    </tr>\n  </tbody>\n</table>\n</div>"
     },
     "execution_count": 24,
     "metadata": {},
     "output_type": "execute_result"
    }
   ],
   "source": [
    "#Which segment does a 35-year-old French female using IOS belong to and how much income is expected to earn on average?\n",
    "predict_income(\"fra\",'ios','female', '35')"
   ],
   "metadata": {
    "collapsed": false,
    "pycharm": {
     "name": "#%%\n"
    }
   }
  },
  {
   "cell_type": "code",
   "execution_count": 25,
   "outputs": [
    {
     "data": {
      "text/plain": "    CUSTOMER_LEVEL_BASED      PRICE SEGMENT\n105   usa_ios_male_19_23  34.901872       B",
      "text/html": "<div>\n<style scoped>\n    .dataframe tbody tr th:only-of-type {\n        vertical-align: middle;\n    }\n\n    .dataframe tbody tr th {\n        vertical-align: top;\n    }\n\n    .dataframe thead th {\n        text-align: right;\n    }\n</style>\n<table border=\"1\" class=\"dataframe\">\n  <thead>\n    <tr style=\"text-align: right;\">\n      <th></th>\n      <th>CUSTOMER_LEVEL_BASED</th>\n      <th>PRICE</th>\n      <th>SEGMENT</th>\n    </tr>\n  </thead>\n  <tbody>\n    <tr>\n      <th>105</th>\n      <td>usa_ios_male_19_23</td>\n      <td>34.901872</td>\n      <td>B</td>\n    </tr>\n  </tbody>\n</table>\n</div>"
     },
     "execution_count": 25,
     "metadata": {},
     "output_type": "execute_result"
    }
   ],
   "source": [
    "#Which segment does a 20-year-old American male using IOS belong to and how much income is expected to earn on average?\n",
    "predict_income(\"usa\",'ios','male', '20')"
   ],
   "metadata": {
    "collapsed": false,
    "pycharm": {
     "name": "#%%\n"
    }
   }
  },
  {
   "cell_type": "code",
   "execution_count": 26,
   "outputs": [
    {
     "data": {
      "text/plain": "      CUSTOMER_LEVEL_BASED      PRICE SEGMENT\n27  can_android_male_41_66  37.571429       A",
      "text/html": "<div>\n<style scoped>\n    .dataframe tbody tr th:only-of-type {\n        vertical-align: middle;\n    }\n\n    .dataframe tbody tr th {\n        vertical-align: top;\n    }\n\n    .dataframe thead th {\n        text-align: right;\n    }\n</style>\n<table border=\"1\" class=\"dataframe\">\n  <thead>\n    <tr style=\"text-align: right;\">\n      <th></th>\n      <th>CUSTOMER_LEVEL_BASED</th>\n      <th>PRICE</th>\n      <th>SEGMENT</th>\n    </tr>\n  </thead>\n  <tbody>\n    <tr>\n      <th>27</th>\n      <td>can_android_male_41_66</td>\n      <td>37.571429</td>\n      <td>A</td>\n    </tr>\n  </tbody>\n</table>\n</div>"
     },
     "execution_count": 26,
     "metadata": {},
     "output_type": "execute_result"
    }
   ],
   "source": [
    "#Which segment does a 55-year-old Canadian male using ANDROID belong to and how much income is expected to earn on average?\n",
    "predict_income(\"can\",'android','male', '50')"
   ],
   "metadata": {
    "collapsed": false,
    "pycharm": {
     "name": "#%%\n"
    }
   }
  }
 ],
 "metadata": {
  "kernelspec": {
   "display_name": "Python 3",
   "language": "python",
   "name": "python3"
  },
  "language_info": {
   "codemirror_mode": {
    "name": "ipython",
    "version": 2
   },
   "file_extension": ".py",
   "mimetype": "text/x-python",
   "name": "python",
   "nbconvert_exporter": "python",
   "pygments_lexer": "ipython2",
   "version": "2.7.6"
  }
 },
 "nbformat": 4,
 "nbformat_minor": 0
}